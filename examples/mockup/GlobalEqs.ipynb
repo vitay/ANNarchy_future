{
 "metadata": {
  "language_info": {
   "codemirror_mode": {
    "name": "ipython",
    "version": 3
   },
   "file_extension": ".py",
   "mimetype": "text/x-python",
   "name": "python",
   "nbconvert_exporter": "python",
   "pygments_lexer": "ipython3",
   "version": "3.9.1-final"
  },
  "orig_nbformat": 2,
  "kernelspec": {
   "name": "python3",
   "display_name": "Python 3"
  }
 },
 "nbformat": 4,
 "nbformat_minor": 2,
 "cells": [
  {
   "cell_type": "code",
   "execution_count": 1,
   "metadata": {},
   "outputs": [
    {
     "output_type": "stream",
     "name": "stdout",
     "text": [
      "Inside context\nEquations:\na = tanh(b) + 10.0\n\nOutside context\na: 0\n"
     ]
    }
   ],
   "source": [
    "import numpy as np\n",
    "import sympy as sp\n",
    "\n",
    "a = 0\n",
    "\n",
    "class Eq(object):\n",
    "    def __init__(self, symbols):\n",
    "\n",
    "        self.symbols = symbols\n",
    "\n",
    "        self._equations = {}\n",
    "        self.equations = {}\n",
    "\n",
    "        self._previous_globals = {}\n",
    "\n",
    "    def __enter__(self):\n",
    "\n",
    "        for name in self.symbols:\n",
    "\n",
    "            # Temporarily backup variables with that name\n",
    "            if name in globals().keys():\n",
    "                self._previous_globals[name] = globals()[name]\n",
    "\n",
    "            # Create a sympy symbol\n",
    "            symbol = sp.Symbol(name)\n",
    "\n",
    "            self._equations[name] = symbol\n",
    "\n",
    "            # Put the variable on the global stack\n",
    "            globals()[name] = symbol\n",
    "\n",
    "        return self\n",
    "\n",
    "    def __exit__(self, exc_type, exc_value, traceback):\n",
    "        \n",
    "        # Store and remove symbols\n",
    "        for symbol in self.symbols:\n",
    "            if self._equations[symbol] != globals()[symbol]:\n",
    "                #print(symbol, \"changed to\", globals()[symbol])\n",
    "                self.equations[symbol] = globals()[symbol].copy()\n",
    "\n",
    "            del globals()[symbol]\n",
    "\n",
    "        # Replace old values\n",
    "        for key, val in self._previous_globals.items():\n",
    "            globals()[key] = val\n",
    "\n",
    "    def __str__(self):\n",
    "        s = \"\"\n",
    "\n",
    "        for var, eq in self.equations.items():\n",
    "            s += var + \" = \" + sp.ccode(eq) + \"\\n\"\n",
    "\n",
    "        return s\n",
    "\n",
    "print(\"Inside context\")\n",
    "val = 10.0\n",
    "with Eq(['a', 'b', 'c']) as eq:\n",
    "\n",
    "    a = sp.tanh(b) + val\n",
    "\n",
    "print(\"Equations:\")\n",
    "print(eq)\n",
    "\n",
    "print(\"Outside context\")\n",
    "print(\"a:\", a)\n",
    "#print(\"b:\", b)"
   ]
  },
  {
   "cell_type": "code",
   "execution_count": 4,
   "metadata": {},
   "outputs": [
    {
     "output_type": "stream",
     "name": "stdout",
     "text": [
      "\n----\n\n----\n\n----\n\n----\n\n----\n"
     ]
    }
   ],
   "source": [
    "import multiprocessing\n",
    "\n",
    "def worker(val):\n",
    "\n",
    "\n",
    "    with Eq(['a', 'b', 'c']) as eq:\n",
    "\n",
    "        a = sp.tanh(b) + val\n",
    "\n",
    "    return str(eq)\n",
    "\n",
    "jobs = []\n",
    "vals = np.linspace(0.0, 1.0, 5)\n",
    "\n",
    "with multiprocessing.Pool() as pool:\n",
    "    res = pool.map(worker, vals)\n",
    "    \n",
    "    for w in res:\n",
    "        print(w)\n",
    "        print(\"----\")\n"
   ]
  },
  {
   "cell_type": "code",
   "execution_count": 12,
   "metadata": {},
   "outputs": [
    {
     "output_type": "stream",
     "name": "stdout",
     "text": [
      "1\n"
     ]
    }
   ],
   "source": [
    "class N(object):\n",
    "    def __init__(self):\n",
    "        self.a = 1\n",
    "\n",
    "class Eq2(object):\n",
    "\n",
    "    def __init__(self):\n",
    "        self.pre = N()\n",
    "        self.post = N()\n",
    "    \n",
    "    def __enter__(self):\n",
    "\n",
    "        return self\n",
    "\n",
    "\n",
    "    def __exit__(self, exc_type, exc_value, traceback):\n",
    "\n",
    "        pass\n",
    "\n",
    "with Eq2() as s:\n",
    "    print(s.pre.a)\n",
    "\n"
   ]
  },
  {
   "cell_type": "code",
   "execution_count": null,
   "metadata": {},
   "outputs": [],
   "source": []
  }
 ]
}